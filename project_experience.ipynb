{
 "cells": [
  {
   "cell_type": "code",
   "execution_count": 1,
   "id": "852d3021",
   "metadata": {},
   "outputs": [],
   "source": [
    "import matplotlib.pyplot as plt\n",
    "import pandas as pd\n",
    "import scipy.stats as st\n",
    "import numpy as np\n",
    "import os\n",
    "from pathlib import Path\n"
   ]
  },
  {
   "cell_type": "code",
   "execution_count": 2,
   "id": "fcc66f2c",
   "metadata": {},
   "outputs": [
    {
     "data": {
      "text/html": [
       "<div>\n",
       "<style scoped>\n",
       "    .dataframe tbody tr th:only-of-type {\n",
       "        vertical-align: middle;\n",
       "    }\n",
       "\n",
       "    .dataframe tbody tr th {\n",
       "        vertical-align: top;\n",
       "    }\n",
       "\n",
       "    .dataframe thead th {\n",
       "        text-align: right;\n",
       "    }\n",
       "</style>\n",
       "<table border=\"1\" class=\"dataframe\">\n",
       "  <thead>\n",
       "    <tr style=\"text-align: right;\">\n",
       "      <th></th>\n",
       "      <th>work_year</th>\n",
       "      <th>experience_level</th>\n",
       "      <th>employment_type</th>\n",
       "      <th>job_title</th>\n",
       "      <th>salary</th>\n",
       "      <th>salary_currency</th>\n",
       "      <th>salary_in_usd</th>\n",
       "      <th>employee_residence</th>\n",
       "      <th>work_setting</th>\n",
       "      <th>company_location</th>\n",
       "      <th>company_size</th>\n",
       "      <th>job_category</th>\n",
       "    </tr>\n",
       "  </thead>\n",
       "  <tbody>\n",
       "    <tr>\n",
       "      <th>0</th>\n",
       "      <td>2024</td>\n",
       "      <td>Entry-level</td>\n",
       "      <td>Freelance</td>\n",
       "      <td>Applied Data Scientist</td>\n",
       "      <td>30000</td>\n",
       "      <td>USD</td>\n",
       "      <td>30000</td>\n",
       "      <td>United Kingdom</td>\n",
       "      <td>Remote</td>\n",
       "      <td>United Kingdom</td>\n",
       "      <td>M</td>\n",
       "      <td>Data Science and Research</td>\n",
       "    </tr>\n",
       "    <tr>\n",
       "      <th>1</th>\n",
       "      <td>2024</td>\n",
       "      <td>Executive</td>\n",
       "      <td>Full-time</td>\n",
       "      <td>Business Intelligence</td>\n",
       "      <td>230000</td>\n",
       "      <td>USD</td>\n",
       "      <td>230000</td>\n",
       "      <td>United States</td>\n",
       "      <td>In-person</td>\n",
       "      <td>United States</td>\n",
       "      <td>M</td>\n",
       "      <td>BI and Visualization</td>\n",
       "    </tr>\n",
       "    <tr>\n",
       "      <th>2</th>\n",
       "      <td>2024</td>\n",
       "      <td>Executive</td>\n",
       "      <td>Full-time</td>\n",
       "      <td>Business Intelligence</td>\n",
       "      <td>176900</td>\n",
       "      <td>USD</td>\n",
       "      <td>176900</td>\n",
       "      <td>United States</td>\n",
       "      <td>In-person</td>\n",
       "      <td>United States</td>\n",
       "      <td>M</td>\n",
       "      <td>BI and Visualization</td>\n",
       "    </tr>\n",
       "    <tr>\n",
       "      <th>3</th>\n",
       "      <td>2024</td>\n",
       "      <td>Senior</td>\n",
       "      <td>Full-time</td>\n",
       "      <td>Data Architect</td>\n",
       "      <td>171210</td>\n",
       "      <td>USD</td>\n",
       "      <td>171210</td>\n",
       "      <td>Canada</td>\n",
       "      <td>In-person</td>\n",
       "      <td>Canada</td>\n",
       "      <td>M</td>\n",
       "      <td>Data Architecture and Modeling</td>\n",
       "    </tr>\n",
       "    <tr>\n",
       "      <th>4</th>\n",
       "      <td>2024</td>\n",
       "      <td>Senior</td>\n",
       "      <td>Full-time</td>\n",
       "      <td>Data Architect</td>\n",
       "      <td>92190</td>\n",
       "      <td>USD</td>\n",
       "      <td>92190</td>\n",
       "      <td>Canada</td>\n",
       "      <td>In-person</td>\n",
       "      <td>Canada</td>\n",
       "      <td>M</td>\n",
       "      <td>Data Architecture and Modeling</td>\n",
       "    </tr>\n",
       "  </tbody>\n",
       "</table>\n",
       "</div>"
      ],
      "text/plain": [
       "   work_year experience_level employment_type               job_title  salary  \\\n",
       "0       2024      Entry-level       Freelance  Applied Data Scientist   30000   \n",
       "1       2024        Executive       Full-time   Business Intelligence  230000   \n",
       "2       2024        Executive       Full-time   Business Intelligence  176900   \n",
       "3       2024           Senior       Full-time          Data Architect  171210   \n",
       "4       2024           Senior       Full-time          Data Architect   92190   \n",
       "\n",
       "  salary_currency  salary_in_usd employee_residence work_setting  \\\n",
       "0             USD          30000     United Kingdom       Remote   \n",
       "1             USD         230000      United States    In-person   \n",
       "2             USD         176900      United States    In-person   \n",
       "3             USD         171210             Canada    In-person   \n",
       "4             USD          92190             Canada    In-person   \n",
       "\n",
       "  company_location company_size                    job_category  \n",
       "0   United Kingdom            M       Data Science and Research  \n",
       "1    United States            M            BI and Visualization  \n",
       "2    United States            M            BI and Visualization  \n",
       "3           Canada            M  Data Architecture and Modeling  \n",
       "4           Canada            M  Data Architecture and Modeling  "
      ]
     },
     "execution_count": 2,
     "metadata": {},
     "output_type": "execute_result"
    }
   ],
   "source": [
    "jobs_data_load = Path(\"Resources/jobs_in_data_2024.csv\")\n",
    "jobs_data =pd.read_csv(jobs_data_load)\n",
    "\n",
    "jobs_data.head()"
   ]
  },
  {
   "cell_type": "code",
   "execution_count": 3,
   "id": "f49f59cb",
   "metadata": {},
   "outputs": [
    {
     "name": "stdout",
     "output_type": "stream",
     "text": [
      "the Average salary is 149472.04944010143\n"
     ]
    }
   ],
   "source": [
    "mean_salary_usd = jobs_data['salary_in_usd'].mean()\n",
    "\n",
    "\n",
    "print(\"the Average salary is\" , mean_salary_usd)\n"
   ]
  },
  {
   "cell_type": "code",
   "execution_count": 15,
   "id": "48d5c2f5",
   "metadata": {},
   "outputs": [
    {
     "name": "stdout",
     "output_type": "stream",
     "text": [
      "the median salary is 142000.0\n",
      "the lowest pay is  15000\n",
      "the highest pay is  450000\n"
     ]
    }
   ],
   "source": [
    "median_salary = jobs_data['salary_in_usd'].median()\n",
    "min_salary= jobs_data['salary_in_usd'].min()\n",
    "max_salary= jobs_data['salary_in_usd'].max()\n",
    "\n",
    "\n",
    "print(\"the median salary is\", median_salary)\n",
    "print(\"the lowest pay is \", min_salary)\n",
    "print(\"the highest pay is \", max_salary)"
   ]
  },
  {
   "cell_type": "code",
   "execution_count": 5,
   "id": "e0169d5a",
   "metadata": {},
   "outputs": [
    {
     "data": {
      "text/plain": [
       "experience_level\n",
       "Senior         9381\n",
       "Mid-level      3339\n",
       "Entry-level    1063\n",
       "Executive       416\n",
       "Name: count, dtype: int64"
      ]
     },
     "execution_count": 5,
     "metadata": {},
     "output_type": "execute_result"
    }
   ],
   "source": [
    "experience_level_counts = jobs_data['experience_level'].value_counts()\n",
    "\n",
    "experience_level_counts"
   ]
  },
  {
   "cell_type": "code",
   "execution_count": 6,
   "id": "229486cd-4cf7-4285-b4f2-af3a3a7019fa",
   "metadata": {},
   "outputs": [
    {
     "data": {
      "image/png": "[encoded data removed]",
      "text/plain": [
       "<Figure size 1000x600 with 1 Axes>"
      ]
     },
     "metadata": {},
     "output_type": "display_data"
    }
   ],
   "source": [
    "levels = [\"Entry-level\", \"Mid-level\", \"Executive\", \"Senior\"]\n",
    "\n",
    "total_exp_vol = []\n",
    "\n",
    "for level in levels:\n",
    "    exp_vol = jobs_data.loc[jobs_data['experience_level'] == level, 'salary_in_usd']\n",
    "    total_exp_vol.append(exp_vol)\n",
    "\n",
    "fig1, ax1 = plt.subplots(figsize=(10,6))\n",
    "ax1.set_title('Salaries per Experience Levels',fontsize =16)\n",
    "ax1.set_ylabel('Salaries',fontsize = 14)\n",
    "ax1.set_xlabel('Experience',fontsize = 14)\n",
    "ax1.boxplot(total_exp_vol, labels=levels, widths = 0.4, patch_artist=True,vert=True)\n",
    "\n",
    "plt.savefig(\"output_data/boxplot.png\")\n",
    "\n",
    "plt.show()\n"
   ]
  },
  {
   "cell_type": "code",
   "execution_count": 16,
   "id": "648b6733-82c2-43bb-9bc8-3e9c9192068f",
   "metadata": {},
   "outputs": [
    {
     "data": {
      "image/png": "[encoded data removed]",
      "text/plain": [
       "<Figure size 1000x600 with 1 Axes>"
      ]
     },
     "metadata": {},
     "output_type": "display_data"
    }
   ],
   "source": [
    "entry_level = jobs_data.loc[jobs_data['experience_level'] == \"Entry-level\", :]\n",
    "\n",
    "data_scientist = entry_level.loc[entry_level['job_title'] == \"Data Scientist\", :]\n",
    "scientist_mean = data_scientist['salary_in_usd'].mean()\n",
    "\n",
    "data_engineer = entry_level.loc[entry_level['job_title'] == \"Data Engineer\", :]\n",
    "engineer_mean = data_engineer['salary_in_usd'].mean()\n",
    "\n",
    "data_analyst = entry_level.loc[entry_level['job_title'] == \"Data Analyst\", :]\n",
    "analyst_mean = data_analyst['salary_in_usd'].mean()\n",
    "\n",
    "machine_learning = entry_level.loc[entry_level['job_title'] == \"Machine Learning Engineer\", :]\n",
    "machine_mean = machine_learning['salary_in_usd'].mean()\n",
    "\n",
    "levels = [\"Data Scientist\", \"Data Engineer\", \"Data Analyst\", \"Machine Learning Engineer\"]\n",
    "levels_mean = [scientist_mean, engineer_mean, analyst_mean, machine_mean]\n",
    "\n",
    "plt.figure(figsize=(10, 6))\n",
    "plt.bar(levels, levels_mean, color=\"b\", align=\"center\")\n",
    "\n",
    "plt.xlabel(\"Job Title\")\n",
    "plt.ylabel(\"Salaries\")\n",
    "plt.title(\"Average Salaries Of Entry-Level Jobs\")\n",
    "plt.tight_layout()\n",
    "\n",
    "plt.savefig(\"output_data/entrybar.png\")\n",
    "\n",
    "plt.show()"
   ]
  },
  {
   "cell_type": "code",
   "execution_count": 29,
   "id": "0de33c63-c8bc-4114-921e-e6de043ddefe",
   "metadata": {},
   "outputs": [
    {
     "data": {
      "text/plain": [
       "work_year                                2024\n",
       "experience_level                  Entry-level\n",
       "employment_type                     Part-time\n",
       "job_title                  Staff Data Analyst\n",
       "salary                                 350000\n",
       "salary_currency                           USD\n",
       "salary_in_usd                          350000\n",
       "employee_residence                 Uzbekistan\n",
       "work_setting                           Remote\n",
       "company_location                United States\n",
       "company_size                                S\n",
       "job_category          Machine Learning and AI\n",
       "dtype: object"
      ]
     },
     "execution_count": 29,
     "metadata": {},
     "output_type": "execute_result"
    }
   ],
   "source": [
    "entry_level = jobs_data.loc[jobs_data['experience_level'] == \"Entry-level\", :]\n",
    "mid_level = jobs_data.loc[jobs_data['experience_level'] == \"Mid-level\", :]\n",
    "senior_level = jobs_data.loc[jobs_data['experience_level'] == \"Senior\", :]\n",
    "executive_level = jobs_data.loc[jobs_data['experience_level'] == \"Executive\", :]\n",
    "\n",
    "max_entry = entry_level.max()\n",
    "max_mid = mid_level.max()\n",
    "max_senior = senior_level.max()\n",
    "max_executive = executive_level.max()\n",
    "\n",
    "min_entry = entry_level.min()\n",
    "min_mid = mid_level.min()\n",
    "min_senior = senior_level.min()\n",
    "min_executive = executive_level.min()\n",
    "\n",
    "max_entry"
   ]
  },
  {
   "cell_type": "code",
   "execution_count": 30,
   "id": "04487873-f877-47f9-87c2-b2eb81a585cb",
   "metadata": {},
   "outputs": [
    {
     "data": {
      "text/plain": [
       "work_year                             2020\n",
       "experience_level               Entry-level\n",
       "employment_type                   Contract\n",
       "job_title                     AI Developer\n",
       "salary                               14000\n",
       "salary_currency                        AUD\n",
       "salary_in_usd                        15000\n",
       "employee_residence                 Algeria\n",
       "work_setting                        Hybrid\n",
       "company_location                   Algeria\n",
       "company_size                             L\n",
       "job_category          BI and Visualization\n",
       "dtype: object"
      ]
     },
     "execution_count": 30,
     "metadata": {},
     "output_type": "execute_result"
    }
   ],
   "source": [
    "min_entry"
   ]
  },
  {
   "cell_type": "code",
   "execution_count": 25,
   "id": "db203e71-dbbe-4a89-a9ef-4b061f793d7f",
   "metadata": {},
   "outputs": [
    {
     "data": {
      "text/plain": [
       "work_year                                2024\n",
       "experience_level                    Mid-level\n",
       "employment_type                     Part-time\n",
       "job_title                  Staff Data Analyst\n",
       "salary                                 450000\n",
       "salary_currency                           USD\n",
       "salary_in_usd                          450000\n",
       "employee_residence                   Viet Nam\n",
       "work_setting                           Remote\n",
       "company_location                     Viet Nam\n",
       "company_size                                S\n",
       "job_category          Machine Learning and AI\n",
       "dtype: object"
      ]
     },
     "execution_count": 25,
     "metadata": {},
     "output_type": "execute_result"
    }
   ],
   "source": [
    "max_mid"
   ]
  },
  {
   "cell_type": "code",
   "execution_count": 31,
   "id": "deb65a62-aec4-484e-8d05-a382ee606361",
   "metadata": {},
   "outputs": [
    {
     "data": {
      "text/plain": [
       "work_year                             2020\n",
       "experience_level                 Mid-level\n",
       "employment_type                   Contract\n",
       "job_title                     AI Developer\n",
       "salary                               15000\n",
       "salary_currency                        AUD\n",
       "salary_in_usd                        15000\n",
       "employee_residence          American Samoa\n",
       "work_setting                        Hybrid\n",
       "company_location                   Andorra\n",
       "company_size                             L\n",
       "job_category          BI and Visualization\n",
       "dtype: object"
      ]
     },
     "execution_count": 31,
     "metadata": {},
     "output_type": "execute_result"
    }
   ],
   "source": [
    "min_mid"
   ]
  },
  {
   "cell_type": "code",
   "execution_count": 26,
   "id": "78261bee-e2f9-4a21-acc0-e4eb70e6cf62",
   "metadata": {},
   "outputs": [
    {
     "data": {
      "text/plain": [
       "work_year                                        2024\n",
       "experience_level                               Senior\n",
       "employment_type                             Full-time\n",
       "job_title             Staff Machine Learning Engineer\n",
       "salary                                         450000\n",
       "salary_currency                                   USD\n",
       "salary_in_usd                                  450000\n",
       "employee_residence                           Viet Nam\n",
       "work_setting                                   Remote\n",
       "company_location                        United States\n",
       "company_size                                        S\n",
       "job_category                  Machine Learning and AI\n",
       "dtype: object"
      ]
     },
     "execution_count": 26,
     "metadata": {},
     "output_type": "execute_result"
    }
   ],
   "source": [
    "max_senior"
   ]
  },
  {
   "cell_type": "code",
   "execution_count": 32,
   "id": "ee6ecd2c-b37a-4789-aae7-df6ed601468d",
   "metadata": {},
   "outputs": [
    {
     "data": {
      "text/plain": [
       "work_year                             2020\n",
       "experience_level                    Senior\n",
       "employment_type                   Contract\n",
       "job_title                     AI Architect\n",
       "salary                               21600\n",
       "salary_currency                        AUD\n",
       "salary_in_usd                        18381\n",
       "employee_residence               Argentina\n",
       "work_setting                        Hybrid\n",
       "company_location                 Argentina\n",
       "company_size                             L\n",
       "job_category          BI and Visualization\n",
       "dtype: object"
      ]
     },
     "execution_count": 32,
     "metadata": {},
     "output_type": "execute_result"
    }
   ],
   "source": [
    "min_senior"
   ]
  },
  {
   "cell_type": "code",
   "execution_count": 27,
   "id": "833eab2c-c773-4c69-af7a-dbc7bc397499",
   "metadata": {},
   "outputs": [
    {
     "data": {
      "text/plain": [
       "work_year                                2024\n",
       "experience_level                    Executive\n",
       "employment_type                     Full-time\n",
       "job_title                  Staff Data Analyst\n",
       "salary                                 448000\n",
       "salary_currency                           USD\n",
       "salary_in_usd                          448000\n",
       "employee_residence                 Uzbekistan\n",
       "work_setting                           Remote\n",
       "company_location                United States\n",
       "company_size                                S\n",
       "job_category          Machine Learning and AI\n",
       "dtype: object"
      ]
     },
     "execution_count": 27,
     "metadata": {},
     "output_type": "execute_result"
    }
   ],
   "source": [
    "max_executive"
   ]
  },
  {
   "cell_type": "code",
   "execution_count": 33,
   "id": "a7b90095-4cc0-4ead-a3e8-514683a1c2a5",
   "metadata": {},
   "outputs": [
    {
     "data": {
      "text/plain": [
       "work_year                             2020\n",
       "experience_level                 Executive\n",
       "employment_type                   Contract\n",
       "job_title                     AI Architect\n",
       "salary                               15000\n",
       "salary_currency                        CAD\n",
       "salary_in_usd                        15000\n",
       "employee_residence                 Belgium\n",
       "work_setting                        Hybrid\n",
       "company_location                    Brazil\n",
       "company_size                             L\n",
       "job_category          BI and Visualization\n",
       "dtype: object"
      ]
     },
     "execution_count": 33,
     "metadata": {},
     "output_type": "execute_result"
    }
   ],
   "source": [
    "min_executive"
   ]
  },
  {
   "cell_type": "code",
   "execution_count": null,
   "id": "48463d93-486f-4ed5-accd-0c5417563e49",
   "metadata": {},
   "outputs": [],
   "source": []
  }
 ],
 "metadata": {
  "kernelspec": {
   "display_name": "Python 3 (ipykernel)",
   "language": "python",
   "name": "python3"
  },
  "language_info": {
   "codemirror_mode": {
    "name": "ipython",
    "version": 3
   },
   "file_extension": ".py",
   "mimetype": "text/x-python",
   "name": "python",
   "nbconvert_exporter": "python",
   "pygments_lexer": "ipython3",
   "version": "3.12.2"
  }
 },
 "nbformat": 4,
 "nbformat_minor": 5
}
